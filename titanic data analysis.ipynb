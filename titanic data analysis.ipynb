{
 "cells": [
  {
   "cell_type": "markdown",
   "id": "f1c93e8b-93bc-4859-88fd-c9570c8df9fc",
   "metadata": {},
   "source": [
    "# Titanic Data Analysis\n",
    "\n",
    "## Introduction\n",
    "The Titanic dataset contains data about the passengers who were aboard the RMS Titanic when it sank on April 15, 1912. The dataset includes various features such as passenger class, age, sex, fare, and survival status. The goal of this analysis is to explore and visualize the dataset to understand factors that influenced survival rates.\n"
   ]
  },
  {
   "cell_type": "markdown",
   "id": "672d8445-a097-426c-8cef-68428546cb5c",
   "metadata": {},
   "source": [
    "## Import Libraries"
   ]
  },
  {
   "cell_type": "code",
   "execution_count": 1,
   "id": "5fa740ac-1901-4cab-a1e3-c50cbd2d5660",
   "metadata": {},
   "outputs": [],
   "source": [
    "import pandas as pd\n",
    "import matplotlib.pyplot as plt\n",
    "import seaborn as sns"
   ]
  },
  {
   "cell_type": "markdown",
   "id": "4c1033b2-3e5e-439b-bfd7-1dc40c52c7bf",
   "metadata": {},
   "source": [
    "# Load Dataset"
   ]
  },
  {
   "cell_type": "code",
   "execution_count": 2,
   "id": "74306e25-1ffb-4d8e-83b3-9e06579d5a88",
   "metadata": {},
   "outputs": [],
   "source": [
    "df = pd.read_csv('dataset/train.csv')"
   ]
  },
  {
   "cell_type": "code",
   "execution_count": null,
   "id": "395790a9-7b8c-4851-8bdd-f011ad019d6c",
   "metadata": {},
   "outputs": [],
   "source": []
  },
  {
   "cell_type": "markdown",
   "id": "b4900e68-03ee-4612-879c-7ac3dd2f9efb",
   "metadata": {},
   "source": [
    "# Data Cleaning"
   ]
  },
  {
   "cell_type": "markdown",
   "id": "52831ab2-7102-49bc-807c-e17b74b9553d",
   "metadata": {},
   "source": [
    "### Initial Inspection"
   ]
  },
  {
   "cell_type": "code",
   "execution_count": 3,
   "id": "a1a80e55-8e15-4252-8a4b-f0c6e18b15cd",
   "metadata": {},
   "outputs": [
    {
     "data": {
      "text/html": [
       "<div>\n",
       "<style scoped>\n",
       "    .dataframe tbody tr th:only-of-type {\n",
       "        vertical-align: middle;\n",
       "    }\n",
       "\n",
       "    .dataframe tbody tr th {\n",
       "        vertical-align: top;\n",
       "    }\n",
       "\n",
       "    .dataframe thead th {\n",
       "        text-align: right;\n",
       "    }\n",
       "</style>\n",
       "<table border=\"1\" class=\"dataframe\">\n",
       "  <thead>\n",
       "    <tr style=\"text-align: right;\">\n",
       "      <th></th>\n",
       "      <th>PassengerId</th>\n",
       "      <th>Survived</th>\n",
       "      <th>Pclass</th>\n",
       "      <th>Name</th>\n",
       "      <th>Sex</th>\n",
       "      <th>Age</th>\n",
       "      <th>SibSp</th>\n",
       "      <th>Parch</th>\n",
       "      <th>Ticket</th>\n",
       "      <th>Fare</th>\n",
       "      <th>Cabin</th>\n",
       "      <th>Embarked</th>\n",
       "    </tr>\n",
       "  </thead>\n",
       "  <tbody>\n",
       "    <tr>\n",
       "      <th>0</th>\n",
       "      <td>1</td>\n",
       "      <td>0</td>\n",
       "      <td>3</td>\n",
       "      <td>Braund, Mr. Owen Harris</td>\n",
       "      <td>male</td>\n",
       "      <td>22.0</td>\n",
       "      <td>1</td>\n",
       "      <td>0</td>\n",
       "      <td>A/5 21171</td>\n",
       "      <td>7.2500</td>\n",
       "      <td>NaN</td>\n",
       "      <td>S</td>\n",
       "    </tr>\n",
       "    <tr>\n",
       "      <th>1</th>\n",
       "      <td>2</td>\n",
       "      <td>1</td>\n",
       "      <td>1</td>\n",
       "      <td>Cumings, Mrs. John Bradley (Florence Briggs Th...</td>\n",
       "      <td>female</td>\n",
       "      <td>38.0</td>\n",
       "      <td>1</td>\n",
       "      <td>0</td>\n",
       "      <td>PC 17599</td>\n",
       "      <td>71.2833</td>\n",
       "      <td>C85</td>\n",
       "      <td>C</td>\n",
       "    </tr>\n",
       "  </tbody>\n",
       "</table>\n",
       "</div>"
      ],
      "text/plain": [
       "   PassengerId  Survived  Pclass  \\\n",
       "0            1         0       3   \n",
       "1            2         1       1   \n",
       "\n",
       "                                                Name     Sex   Age  SibSp  \\\n",
       "0                            Braund, Mr. Owen Harris    male  22.0      1   \n",
       "1  Cumings, Mrs. John Bradley (Florence Briggs Th...  female  38.0      1   \n",
       "\n",
       "   Parch     Ticket     Fare Cabin Embarked  \n",
       "0      0  A/5 21171   7.2500   NaN        S  \n",
       "1      0   PC 17599  71.2833   C85        C  "
      ]
     },
     "execution_count": 3,
     "metadata": {},
     "output_type": "execute_result"
    }
   ],
   "source": [
    "df.head(2)"
   ]
  },
  {
   "cell_type": "code",
   "execution_count": 4,
   "id": "c300cd3d-1c3e-4324-b135-e1c9337430cc",
   "metadata": {},
   "outputs": [
    {
     "data": {
      "text/plain": [
       "(891, 12)"
      ]
     },
     "execution_count": 4,
     "metadata": {},
     "output_type": "execute_result"
    }
   ],
   "source": [
    "# Check rows and columns\n",
    "df.shape"
   ]
  },
  {
   "cell_type": "code",
   "execution_count": 5,
   "id": "74931e24-0d16-4396-a0f7-cea8a4f51f6e",
   "metadata": {},
   "outputs": [
    {
     "name": "stdout",
     "output_type": "stream",
     "text": [
      "<class 'pandas.core.frame.DataFrame'>\n",
      "RangeIndex: 891 entries, 0 to 890\n",
      "Data columns (total 12 columns):\n",
      " #   Column       Non-Null Count  Dtype  \n",
      "---  ------       --------------  -----  \n",
      " 0   PassengerId  891 non-null    int64  \n",
      " 1   Survived     891 non-null    int64  \n",
      " 2   Pclass       891 non-null    int64  \n",
      " 3   Name         891 non-null    object \n",
      " 4   Sex          891 non-null    object \n",
      " 5   Age          714 non-null    float64\n",
      " 6   SibSp        891 non-null    int64  \n",
      " 7   Parch        891 non-null    int64  \n",
      " 8   Ticket       891 non-null    object \n",
      " 9   Fare         891 non-null    float64\n",
      " 10  Cabin        204 non-null    object \n",
      " 11  Embarked     889 non-null    object \n",
      "dtypes: float64(2), int64(5), object(5)\n",
      "memory usage: 83.7+ KB\n"
     ]
    }
   ],
   "source": [
    "# Check datatypes of data\n",
    "df.info()"
   ]
  },
  {
   "cell_type": "markdown",
   "id": "fe5f03e6-277a-460b-a135-a233bde67459",
   "metadata": {},
   "source": [
    "**Note:** The dataset contains `891 entries` and `12 columns`, including 'PassengerId', 'Survived', 'Pclass', 'Name', 'Sex', 'Age', 'SibSp', 'Parch', 'Ticket', 'Fare', 'Cabin', and 'Embarked'."
   ]
  },
  {
   "cell_type": "code",
   "execution_count": null,
   "id": "1057a402-178f-464b-b090-0f705983c8d3",
   "metadata": {},
   "outputs": [],
   "source": []
  },
  {
   "cell_type": "markdown",
   "id": "f4452abe-b31a-45b3-bb25-e7042cfe01f0",
   "metadata": {},
   "source": [
    "# Handling Missing Values"
   ]
  },
  {
   "cell_type": "code",
   "execution_count": 6,
   "id": "67c77f26-1904-4a86-bba9-6bd58cc57ce8",
   "metadata": {},
   "outputs": [
    {
     "data": {
      "text/plain": [
       "PassengerId      0\n",
       "Survived         0\n",
       "Pclass           0\n",
       "Name             0\n",
       "Sex              0\n",
       "Age            177\n",
       "SibSp            0\n",
       "Parch            0\n",
       "Ticket           0\n",
       "Fare             0\n",
       "Cabin          687\n",
       "Embarked         2\n",
       "dtype: int64"
      ]
     },
     "execution_count": 6,
     "metadata": {},
     "output_type": "execute_result"
    }
   ],
   "source": [
    "df.isna().sum()"
   ]
  },
  {
   "cell_type": "markdown",
   "id": "a3b36101-bd7c-41b7-8a25-23c00edb9808",
   "metadata": {},
   "source": [
    "**Note:** The `Age` and `Embarked` columns have missing values. The `Cabin` column has a high number of missing values of around `687`."
   ]
  },
  {
   "cell_type": "code",
   "execution_count": null,
   "id": "7b44afca-1676-4507-b68d-637316b0f4d9",
   "metadata": {},
   "outputs": [],
   "source": []
  },
  {
   "cell_type": "markdown",
   "id": "f7e23024-e120-41ed-9a9a-379984c9cdfa",
   "metadata": {},
   "source": [
    "### Handling `Cabin` Column"
   ]
  },
  {
   "cell_type": "code",
   "execution_count": 7,
   "id": "b45e58df-698c-4848-9259-004b701d5e4d",
   "metadata": {},
   "outputs": [],
   "source": [
    "# Drop the 'Cabin' column due to a high number of missing values\n",
    "df = df.drop('Cabin', axis=1)"
   ]
  },
  {
   "cell_type": "markdown",
   "id": "d71526d5-5383-47d2-9fbe-7f2ac6faefef",
   "metadata": {},
   "source": [
    "### Handling `Age` Column"
   ]
  },
  {
   "cell_type": "markdown",
   "id": "100fb209-9d02-4f8d-acff-4fb65d5b04d0",
   "metadata": {},
   "source": [
    "**Note:** We fill `age` with mean"
   ]
  },
  {
   "cell_type": "code",
   "execution_count": 8,
   "id": "cde4c1f2-f729-409f-b03b-cd450e402445",
   "metadata": {},
   "outputs": [],
   "source": [
    "# Fill age with mean, It help us to get understanding of persons in titanic\n",
    "df['Age'] = df['Age'].fillna(value = df['Age'].mean())"
   ]
  },
  {
   "cell_type": "code",
   "execution_count": 9,
   "id": "daac18f5-470c-498b-98cd-92d2f625cc74",
   "metadata": {},
   "outputs": [
    {
     "data": {
      "text/plain": [
       "PassengerId    0\n",
       "Survived       0\n",
       "Pclass         0\n",
       "Name           0\n",
       "Sex            0\n",
       "Age            0\n",
       "SibSp          0\n",
       "Parch          0\n",
       "Ticket         0\n",
       "Fare           0\n",
       "Embarked       2\n",
       "dtype: int64"
      ]
     },
     "execution_count": 9,
     "metadata": {},
     "output_type": "execute_result"
    }
   ],
   "source": [
    "df.isna().sum()"
   ]
  },
  {
   "cell_type": "code",
   "execution_count": null,
   "id": "dffbd551-7a71-44e0-b790-59588e1a2884",
   "metadata": {},
   "outputs": [],
   "source": []
  },
  {
   "cell_type": "markdown",
   "id": "62ab2332-f33c-4fc9-803b-3acada02a626",
   "metadata": {},
   "source": [
    "### Handling `Embarked` Column"
   ]
  },
  {
   "cell_type": "code",
   "execution_count": 10,
   "id": "b64f7dce-ccc5-4bc7-b186-6a42ce558a29",
   "metadata": {},
   "outputs": [
    {
     "data": {
      "text/plain": [
       "0    S\n",
       "1    C\n",
       "2    S\n",
       "3    S\n",
       "4    S\n",
       "Name: Embarked, dtype: object"
      ]
     },
     "execution_count": 10,
     "metadata": {},
     "output_type": "execute_result"
    }
   ],
   "source": [
    "df['Embarked'].head()"
   ]
  },
  {
   "cell_type": "markdown",
   "id": "e3d08835-d61c-491b-8dd1-105d343893af",
   "metadata": {},
   "source": [
    "**Note:** Now drop null values, as we only have two null values so they don't effect our dataset"
   ]
  },
  {
   "cell_type": "code",
   "execution_count": 11,
   "id": "1ad432e4-f529-448d-afb0-3f5ad19e7a38",
   "metadata": {},
   "outputs": [],
   "source": [
    "# Drop rows with missing 'Embarked' values\n",
    "df.dropna(subset=['Embarked'], inplace=True)"
   ]
  },
  {
   "cell_type": "code",
   "execution_count": 12,
   "id": "28ea7b5e-ede8-4f3d-ad50-b42cca7f94f4",
   "metadata": {},
   "outputs": [
    {
     "data": {
      "text/html": [
       "<div>\n",
       "<style scoped>\n",
       "    .dataframe tbody tr th:only-of-type {\n",
       "        vertical-align: middle;\n",
       "    }\n",
       "\n",
       "    .dataframe tbody tr th {\n",
       "        vertical-align: top;\n",
       "    }\n",
       "\n",
       "    .dataframe thead th {\n",
       "        text-align: right;\n",
       "    }\n",
       "</style>\n",
       "<table border=\"1\" class=\"dataframe\">\n",
       "  <thead>\n",
       "    <tr style=\"text-align: right;\">\n",
       "      <th></th>\n",
       "      <th>PassengerId</th>\n",
       "      <th>Survived</th>\n",
       "      <th>Pclass</th>\n",
       "      <th>Name</th>\n",
       "      <th>Sex</th>\n",
       "      <th>Age</th>\n",
       "      <th>SibSp</th>\n",
       "      <th>Parch</th>\n",
       "      <th>Ticket</th>\n",
       "      <th>Fare</th>\n",
       "      <th>Embarked</th>\n",
       "    </tr>\n",
       "  </thead>\n",
       "  <tbody>\n",
       "    <tr>\n",
       "      <th>0</th>\n",
       "      <td>1</td>\n",
       "      <td>0</td>\n",
       "      <td>3</td>\n",
       "      <td>Braund, Mr. Owen Harris</td>\n",
       "      <td>male</td>\n",
       "      <td>22.0</td>\n",
       "      <td>1</td>\n",
       "      <td>0</td>\n",
       "      <td>A/5 21171</td>\n",
       "      <td>7.2500</td>\n",
       "      <td>S</td>\n",
       "    </tr>\n",
       "    <tr>\n",
       "      <th>1</th>\n",
       "      <td>2</td>\n",
       "      <td>1</td>\n",
       "      <td>1</td>\n",
       "      <td>Cumings, Mrs. John Bradley (Florence Briggs Th...</td>\n",
       "      <td>female</td>\n",
       "      <td>38.0</td>\n",
       "      <td>1</td>\n",
       "      <td>0</td>\n",
       "      <td>PC 17599</td>\n",
       "      <td>71.2833</td>\n",
       "      <td>C</td>\n",
       "    </tr>\n",
       "  </tbody>\n",
       "</table>\n",
       "</div>"
      ],
      "text/plain": [
       "   PassengerId  Survived  Pclass  \\\n",
       "0            1         0       3   \n",
       "1            2         1       1   \n",
       "\n",
       "                                                Name     Sex   Age  SibSp  \\\n",
       "0                            Braund, Mr. Owen Harris    male  22.0      1   \n",
       "1  Cumings, Mrs. John Bradley (Florence Briggs Th...  female  38.0      1   \n",
       "\n",
       "   Parch     Ticket     Fare Embarked  \n",
       "0      0  A/5 21171   7.2500        S  \n",
       "1      0   PC 17599  71.2833        C  "
      ]
     },
     "execution_count": 12,
     "metadata": {},
     "output_type": "execute_result"
    }
   ],
   "source": [
    "df.head(2)"
   ]
  },
  {
   "cell_type": "code",
   "execution_count": null,
   "id": "6fb0db95-e119-49f7-8497-d2a334beeede",
   "metadata": {},
   "outputs": [],
   "source": []
  },
  {
   "cell_type": "markdown",
   "id": "098b1f62-58e9-4537-992e-dd0b3dbfb6bb",
   "metadata": {},
   "source": [
    "# Removing Unnecessary Columns\r\n"
   ]
  },
  {
   "cell_type": "markdown",
   "id": "928812f7-ee20-4a17-816e-3b9a6776f2a8",
   "metadata": {},
   "source": [
    "**Note:** As we know that PassengerId, Name and Ticket doesnot tell us whether a person survive or not, so drop them from dataset"
   ]
  },
  {
   "cell_type": "code",
   "execution_count": 13,
   "id": "ddfcecb0-6144-4013-92ad-c45007447fa8",
   "metadata": {},
   "outputs": [],
   "source": [
    "\n",
    "def remove_columns(df, columns_to_remove):\n",
    "    \"\"\"\n",
    "    Remove specified columns from the DataFrame if they exist.\n",
    "    \n",
    "    Parameters:\n",
    "    df (pd.DataFrame): The DataFrame from which columns will be removed.\n",
    "    columns_to_remove (list of str): List of column names to remove.\n",
    "    \n",
    "    Returns:\n",
    "    pd.DataFrame: The DataFrame with the specified columns removed.\n",
    "    \"\"\"\n",
    "    # List of columns to remove\n",
    "    columns_to_remove = [col for col in columns_to_remove if col in df.columns]\n",
    "    \n",
    "    # Drop the columns if they exist\n",
    "    df = df.drop(columns=columns_to_remove, axis=1)\n",
    "    \n",
    "    return df"
   ]
  },
  {
   "cell_type": "code",
   "execution_count": 14,
   "id": "ed79c174-71a6-4a8a-855b-847f02dab74b",
   "metadata": {},
   "outputs": [],
   "source": [
    "df = remove_columns(df, ['Name', 'Fare', 'PassengerId','Fare','Ticket'])"
   ]
  },
  {
   "cell_type": "code",
   "execution_count": 15,
   "id": "91b015c0-9e92-422d-921f-f973dc9aadb9",
   "metadata": {},
   "outputs": [
    {
     "data": {
      "text/plain": [
       "Index(['Survived', 'Pclass', 'Sex', 'Age', 'SibSp', 'Parch', 'Embarked'], dtype='object')"
      ]
     },
     "execution_count": 15,
     "metadata": {},
     "output_type": "execute_result"
    }
   ],
   "source": [
    "df.columns"
   ]
  },
  {
   "cell_type": "code",
   "execution_count": 16,
   "id": "1cca91d3-eb5a-4546-940a-0ba7e5c21eac",
   "metadata": {},
   "outputs": [
    {
     "data": {
      "text/plain": [
       "(889, 7)"
      ]
     },
     "execution_count": 16,
     "metadata": {},
     "output_type": "execute_result"
    }
   ],
   "source": [
    "df.shape"
   ]
  },
  {
   "cell_type": "code",
   "execution_count": 17,
   "id": "ff5a7aaf-3dd4-43ee-80d0-14ce0d0cec72",
   "metadata": {},
   "outputs": [
    {
     "data": {
      "text/html": [
       "<div>\n",
       "<style scoped>\n",
       "    .dataframe tbody tr th:only-of-type {\n",
       "        vertical-align: middle;\n",
       "    }\n",
       "\n",
       "    .dataframe tbody tr th {\n",
       "        vertical-align: top;\n",
       "    }\n",
       "\n",
       "    .dataframe thead th {\n",
       "        text-align: right;\n",
       "    }\n",
       "</style>\n",
       "<table border=\"1\" class=\"dataframe\">\n",
       "  <thead>\n",
       "    <tr style=\"text-align: right;\">\n",
       "      <th></th>\n",
       "      <th>Survived</th>\n",
       "      <th>Pclass</th>\n",
       "      <th>Sex</th>\n",
       "      <th>Age</th>\n",
       "      <th>SibSp</th>\n",
       "      <th>Parch</th>\n",
       "      <th>Embarked</th>\n",
       "    </tr>\n",
       "  </thead>\n",
       "  <tbody>\n",
       "    <tr>\n",
       "      <th>0</th>\n",
       "      <td>0</td>\n",
       "      <td>3</td>\n",
       "      <td>male</td>\n",
       "      <td>22.0</td>\n",
       "      <td>1</td>\n",
       "      <td>0</td>\n",
       "      <td>S</td>\n",
       "    </tr>\n",
       "    <tr>\n",
       "      <th>1</th>\n",
       "      <td>1</td>\n",
       "      <td>1</td>\n",
       "      <td>female</td>\n",
       "      <td>38.0</td>\n",
       "      <td>1</td>\n",
       "      <td>0</td>\n",
       "      <td>C</td>\n",
       "    </tr>\n",
       "    <tr>\n",
       "      <th>2</th>\n",
       "      <td>1</td>\n",
       "      <td>3</td>\n",
       "      <td>female</td>\n",
       "      <td>26.0</td>\n",
       "      <td>0</td>\n",
       "      <td>0</td>\n",
       "      <td>S</td>\n",
       "    </tr>\n",
       "  </tbody>\n",
       "</table>\n",
       "</div>"
      ],
      "text/plain": [
       "   Survived  Pclass     Sex   Age  SibSp  Parch Embarked\n",
       "0         0       3    male  22.0      1      0        S\n",
       "1         1       1  female  38.0      1      0        C\n",
       "2         1       3  female  26.0      0      0        S"
      ]
     },
     "execution_count": 17,
     "metadata": {},
     "output_type": "execute_result"
    }
   ],
   "source": [
    "df.head(3)"
   ]
  },
  {
   "cell_type": "code",
   "execution_count": null,
   "id": "288fc1ea-4c87-413e-b49f-32cd2e042717",
   "metadata": {},
   "outputs": [],
   "source": []
  },
  {
   "cell_type": "markdown",
   "id": "9465cf7c-d63c-4964-b2d3-297464b8e044",
   "metadata": {},
   "source": [
    "# Data Exploration"
   ]
  },
  {
   "cell_type": "markdown",
   "id": "b8b3da92-eec3-4032-b362-3edcc7bfad97",
   "metadata": {},
   "source": [
    "### Descriptive Statistics"
   ]
  },
  {
   "cell_type": "code",
   "execution_count": 18,
   "id": "ba515dc1-5cd2-48b0-a32b-d7aaa891c7ee",
   "metadata": {},
   "outputs": [
    {
     "data": {
      "text/html": [
       "<div>\n",
       "<style scoped>\n",
       "    .dataframe tbody tr th:only-of-type {\n",
       "        vertical-align: middle;\n",
       "    }\n",
       "\n",
       "    .dataframe tbody tr th {\n",
       "        vertical-align: top;\n",
       "    }\n",
       "\n",
       "    .dataframe thead th {\n",
       "        text-align: right;\n",
       "    }\n",
       "</style>\n",
       "<table border=\"1\" class=\"dataframe\">\n",
       "  <thead>\n",
       "    <tr style=\"text-align: right;\">\n",
       "      <th></th>\n",
       "      <th>Survived</th>\n",
       "      <th>Pclass</th>\n",
       "      <th>Age</th>\n",
       "      <th>SibSp</th>\n",
       "      <th>Parch</th>\n",
       "    </tr>\n",
       "  </thead>\n",
       "  <tbody>\n",
       "    <tr>\n",
       "      <th>count</th>\n",
       "      <td>889.000000</td>\n",
       "      <td>889.000000</td>\n",
       "      <td>889.000000</td>\n",
       "      <td>889.000000</td>\n",
       "      <td>889.000000</td>\n",
       "    </tr>\n",
       "    <tr>\n",
       "      <th>mean</th>\n",
       "      <td>0.382452</td>\n",
       "      <td>2.311586</td>\n",
       "      <td>29.653446</td>\n",
       "      <td>0.524184</td>\n",
       "      <td>0.382452</td>\n",
       "    </tr>\n",
       "    <tr>\n",
       "      <th>std</th>\n",
       "      <td>0.486260</td>\n",
       "      <td>0.834700</td>\n",
       "      <td>12.968366</td>\n",
       "      <td>1.103705</td>\n",
       "      <td>0.806761</td>\n",
       "    </tr>\n",
       "    <tr>\n",
       "      <th>min</th>\n",
       "      <td>0.000000</td>\n",
       "      <td>1.000000</td>\n",
       "      <td>0.420000</td>\n",
       "      <td>0.000000</td>\n",
       "      <td>0.000000</td>\n",
       "    </tr>\n",
       "    <tr>\n",
       "      <th>25%</th>\n",
       "      <td>0.000000</td>\n",
       "      <td>2.000000</td>\n",
       "      <td>22.000000</td>\n",
       "      <td>0.000000</td>\n",
       "      <td>0.000000</td>\n",
       "    </tr>\n",
       "    <tr>\n",
       "      <th>50%</th>\n",
       "      <td>0.000000</td>\n",
       "      <td>3.000000</td>\n",
       "      <td>29.699118</td>\n",
       "      <td>0.000000</td>\n",
       "      <td>0.000000</td>\n",
       "    </tr>\n",
       "    <tr>\n",
       "      <th>75%</th>\n",
       "      <td>1.000000</td>\n",
       "      <td>3.000000</td>\n",
       "      <td>35.000000</td>\n",
       "      <td>1.000000</td>\n",
       "      <td>0.000000</td>\n",
       "    </tr>\n",
       "    <tr>\n",
       "      <th>max</th>\n",
       "      <td>1.000000</td>\n",
       "      <td>3.000000</td>\n",
       "      <td>80.000000</td>\n",
       "      <td>8.000000</td>\n",
       "      <td>6.000000</td>\n",
       "    </tr>\n",
       "  </tbody>\n",
       "</table>\n",
       "</div>"
      ],
      "text/plain": [
       "         Survived      Pclass         Age       SibSp       Parch\n",
       "count  889.000000  889.000000  889.000000  889.000000  889.000000\n",
       "mean     0.382452    2.311586   29.653446    0.524184    0.382452\n",
       "std      0.486260    0.834700   12.968366    1.103705    0.806761\n",
       "min      0.000000    1.000000    0.420000    0.000000    0.000000\n",
       "25%      0.000000    2.000000   22.000000    0.000000    0.000000\n",
       "50%      0.000000    3.000000   29.699118    0.000000    0.000000\n",
       "75%      1.000000    3.000000   35.000000    1.000000    0.000000\n",
       "max      1.000000    3.000000   80.000000    8.000000    6.000000"
      ]
     },
     "execution_count": 18,
     "metadata": {},
     "output_type": "execute_result"
    }
   ],
   "source": [
    "# Get descriptive statistics of the dataset\n",
    "df.describe()"
   ]
  },
  {
   "cell_type": "markdown",
   "id": "d8926190-be0e-48a8-b977-6c5eb89ea2e0",
   "metadata": {},
   "source": [
    "**Note:** This provides a summary of `numerical features in the dataset`, including `counts`, `means`, `standard deviations`, and `ranges`."
   ]
  },
  {
   "cell_type": "code",
   "execution_count": null,
   "id": "2f9a7c26-eb2d-43b0-8c19-d1421b44ee85",
   "metadata": {},
   "outputs": [],
   "source": []
  },
  {
   "cell_type": "markdown",
   "id": "8a37e70b-d1f3-4f82-9409-c30bb542c239",
   "metadata": {},
   "source": [
    "# Data Visualization"
   ]
  },
  {
   "cell_type": "markdown",
   "id": "9b96e5c0-7bcb-4649-9268-0cc7288a293d",
   "metadata": {},
   "source": [
    "#### `Font Dicts For Different Purpose`"
   ]
  },
  {
   "cell_type": "code",
   "execution_count": 19,
   "id": "bec01449-eed4-4971-8ae1-5149eab12161",
   "metadata": {},
   "outputs": [],
   "source": [
    "title_fontdict = {\n",
    "    'fontsize': 20,\n",
    "    'fontweight': 'bold',\n",
    "    'family': 'serif',\n",
    "    'color': 'darkblue',\n",
    "    'verticalalignment': 'top'\n",
    "}\n",
    "\n",
    "xlabel_fontdict = {\n",
    "    'fontsize': 14,\n",
    "    'fontweight': 'medium',\n",
    "    'family': 'sans-serif',\n",
    "    'color': 'darkgreen',\n",
    "    'horizontalalignment': 'right'\n",
    "}\n",
    "\n",
    "ylabel_fontdict = {\n",
    "    'fontsize': 14,\n",
    "    'fontweight': 'medium',\n",
    "    'family': 'sans-serif',\n",
    "    'color': 'darkred',\n",
    "    'horizontalalignment': 'left'\n",
    "}\n",
    "\n",
    "ticklabel_fontdict = {\n",
    "    'fontsize': 12,\n",
    "    'fontweight': 'light',\n",
    "    'family': 'monospace',\n",
    "    'color': 'black'\n",
    "}\n",
    "\n",
    "legend_fontdict = {\n",
    "    'fontsize': 12,\n",
    "    'fontweight': 'normal',\n",
    "    'family': 'serif',\n",
    "    'color': 'purple'\n",
    "}\n",
    "\n",
    "grid_fontdict = {\n",
    "    'fontsize': 10,\n",
    "    'fontweight': 'light',\n",
    "    'family': 'sans-serif',\n",
    "    'color': 'gray'\n",
    "}\n"
   ]
  },
  {
   "cell_type": "code",
   "execution_count": null,
   "id": "72ce5a6f-71ac-45cc-a734-6f2a5a9cc882",
   "metadata": {},
   "outputs": [],
   "source": []
  },
  {
   "cell_type": "markdown",
   "id": "6d1b2811-a418-40a3-b687-f0a4a9efe9bb",
   "metadata": {},
   "source": [
    "## Distribution of Sex"
   ]
  },
  {
   "cell_type": "code",
   "execution_count": 20,
   "id": "ab9cc940-a005-4bc5-906b-3ca044788c9f",
   "metadata": {},
   "outputs": [],
   "source": [
    "g_counts = df['Sex'].value_counts()"
   ]
  },
  {
   "cell_type": "code",
   "execution_count": 21,
   "id": "fd633c83-cfbf-4748-afc5-3704cab5a768",
   "metadata": {},
   "outputs": [
    {
     "data": {
      "image/png": "[encoded data removed]",
      "text/plain": [
       "<Figure size 640x480 with 1 Axes>"
      ]
     },
     "metadata": {},
     "output_type": "display_data"
    }
   ],
   "source": [
    "# Pie chart showing the distribution of male and female passengers\n",
    "plt.pie(g_counts,labels=g_counts.index.str.title(), autopct='%1.1f%%')\n",
    "plt.title(\"Distribution Of Sex\", fontdict=title_fontdict)\n",
    "plt.show()"
   ]
  },
  {
   "cell_type": "markdown",
   "id": "c0d1969a-1c7d-4e38-a48d-692da0fe9d61",
   "metadata": {},
   "source": [
    "**Note:** This chart illustrates the proportion of `male` and `female` passengers aboard the `Titanic`."
   ]
  },
  {
   "cell_type": "code",
   "execution_count": null,
   "id": "fefabbc6-531f-4ed0-8739-9e82b0ab4fb0",
   "metadata": {},
   "outputs": [],
   "source": []
  },
  {
   "cell_type": "code",
   "execution_count": null,
   "id": "6a75acec-d23d-4525-952c-2e3a7f90048e",
   "metadata": {},
   "outputs": [],
   "source": []
  },
  {
   "cell_type": "markdown",
   "id": "a1932baf-b882-4ad1-b751-9dfbfc958a14",
   "metadata": {},
   "source": [
    "## Survivors by Gender"
   ]
  },
  {
   "cell_type": "code",
   "execution_count": 22,
   "id": "94ac91c6-8655-40bc-b739-25096ff2881e",
   "metadata": {},
   "outputs": [],
   "source": [
    "# Group by 'Sex' and sum 'Survived' to get the number of survivors by gender\n",
    "survival_by_gender = df.groupby('Sex')['Survived'].sum()"
   ]
  },
  {
   "cell_type": "code",
   "execution_count": 23,
   "id": "b6a66e6a-648c-4c51-b64e-f7bb54975177",
   "metadata": {},
   "outputs": [
    {
     "data": {
      "image/png": "[encoded data removed]",
      "text/plain": [
       "<Figure size 800x600 with 1 Axes>"
      ]
     },
     "metadata": {},
     "output_type": "display_data"
    }
   ],
   "source": [
    "# Plotting\n",
    "plt.figure(figsize=(8, 6))\n",
    "plt.bar(survival_by_gender.index, survival_by_gender.values, color=['orange', 'blue'])\n",
    "\n",
    "# Adding title and labels\n",
    "plt.title('Number of Survivors by Gender', fontsize=16, fontweight='bold', family='serif')\n",
    "plt.xlabel('Gender', fontdict=xlabel_fontdict)\n",
    "plt.ylabel('Number of Survivors', fontdict=ylabel_fontdict)\n",
    "\n",
    "# Show the plot\n",
    "plt.show()"
   ]
  },
  {
   "cell_type": "markdown",
   "id": "0bd6993d-9268-494d-b46c-00b2375d1872",
   "metadata": {},
   "source": [
    "**Note:** This chart displays the number of survivors `categorized by gender`."
   ]
  },
  {
   "cell_type": "markdown",
   "id": "ceb9a00a-b0c8-4a7c-afbd-ec75c2c0ae2a",
   "metadata": {},
   "source": [
    "-----------------------"
   ]
  },
  {
   "cell_type": "code",
   "execution_count": 24,
   "id": "d356f918-ec6c-4891-aa82-f5406f8d503d",
   "metadata": {},
   "outputs": [
    {
     "data": {
      "text/plain": [
       "Sex\n",
       "female    231\n",
       "male      109\n",
       "Name: Survived, dtype: int64"
      ]
     },
     "execution_count": 24,
     "metadata": {},
     "output_type": "execute_result"
    }
   ],
   "source": [
    "survival_by_gender"
   ]
  },
  {
   "cell_type": "code",
   "execution_count": 25,
   "id": "cc87c072-9627-49e5-8421-9457a2f47cea",
   "metadata": {},
   "outputs": [
    {
     "data": {
      "text/plain": [
       "Index(['female', 'male'], dtype='object', name='Sex')"
      ]
     },
     "execution_count": 25,
     "metadata": {},
     "output_type": "execute_result"
    }
   ],
   "source": [
    "survival_by_gender.index"
   ]
  },
  {
   "cell_type": "code",
   "execution_count": 26,
   "id": "0ad91058-b333-46e6-a30e-f33492720689",
   "metadata": {},
   "outputs": [
    {
     "data": {
      "text/plain": [
       "array([231, 109], dtype=int64)"
      ]
     },
     "execution_count": 26,
     "metadata": {},
     "output_type": "execute_result"
    }
   ],
   "source": [
    "survival_by_gender.values"
   ]
  },
  {
   "cell_type": "markdown",
   "id": "7e1719fa-31c3-4935-a679-78f18e433c4e",
   "metadata": {},
   "source": [
    "---------------------------"
   ]
  },
  {
   "cell_type": "code",
   "execution_count": null,
   "id": "dcbe3f7a-4360-4291-80a3-71116f66f568",
   "metadata": {},
   "outputs": [],
   "source": []
  },
  {
   "cell_type": "markdown",
   "id": "8c510f40-0a6f-40de-a44c-93c022044c95",
   "metadata": {},
   "source": [
    "# Survivors by Passenger Class"
   ]
  },
  {
   "cell_type": "code",
   "execution_count": 27,
   "id": "1228e2e0-3870-41dd-b3c3-2c54fe6fee54",
   "metadata": {},
   "outputs": [],
   "source": [
    "# Group by 'Pclass' and sum 'Survived' to get the number of survivors by class\n",
    "pclass_survived = df.groupby('Pclass')['Survived'].sum()"
   ]
  },
  {
   "cell_type": "code",
   "execution_count": 28,
   "id": "93fdef70-0d42-4e37-b7f8-5d776ac3ac42",
   "metadata": {},
   "outputs": [
    {
     "data": {
      "image/png": "[encoded data removed]",
      "text/plain": [
       "<Figure size 640x480 with 1 Axes>"
      ]
     },
     "metadata": {},
     "output_type": "display_data"
    }
   ],
   "source": [
    "# Bar chart showing the number of survivors by passenger class\n",
    "plt.bar(pclass_survived.index, pclass_survived.values, color=('orange','blue','green'), edgecolor='red')\n",
    "plt.title(\"Number of Survivors by Passenger Class\", fontdict=title_fontdict)\n",
    "plt.xlabel(\"Passenger Class\", fontdict=xlabel_fontdict)\n",
    "plt.ylabel(\"Number of Survivors\", fontdict=ylabel_fontdict)\n",
    "plt.show()"
   ]
  },
  {
   "cell_type": "markdown",
   "id": "34e857dd-0589-40d0-bc7e-4e250c596abd",
   "metadata": {},
   "source": [
    "**Note:** This chart shows the `distribution of survivors` across `different passenger classes`."
   ]
  },
  {
   "cell_type": "code",
   "execution_count": null,
   "id": "bc04ca94-06b1-46a6-a32f-f34c2ba611c0",
   "metadata": {},
   "outputs": [],
   "source": []
  },
  {
   "cell_type": "markdown",
   "id": "1efe67d0-f152-45b9-ae65-39d4aded3f75",
   "metadata": {},
   "source": [
    "## Passenger Class Distribution by Gender"
   ]
  },
  {
   "cell_type": "code",
   "execution_count": 29,
   "id": "17a11d85-d522-49c4-93db-57d357a2a7c5",
   "metadata": {},
   "outputs": [],
   "source": [
    "# Group by 'Sex' and 'Pclass', then count occurrences\n",
    "pclass_gender_counts = df.groupby(['Sex', 'Pclass']).size().unstack()"
   ]
  },
  {
   "cell_type": "code",
   "execution_count": 30,
   "id": "766cf269-38f9-4f95-ba04-aba4d7fa92ae",
   "metadata": {},
   "outputs": [
    {
     "data": {
      "text/plain": [
       "<Figure size 1000x700 with 0 Axes>"
      ]
     },
     "metadata": {},
     "output_type": "display_data"
    },
    {
     "data": {
      "image/png": "[encoded data removed]",
      "text/plain": [
       "<Figure size 640x480 with 1 Axes>"
      ]
     },
     "metadata": {},
     "output_type": "display_data"
    }
   ],
   "source": [
    "# Plotting\n",
    "plt.figure(figsize=(10, 7))\n",
    "pclass_gender_counts.plot(kind='bar', stacked=True)\n",
    "\n",
    "# Adding title and labels\n",
    "plt.title('Passenger Class Distribution by Gender', fontdict=title_fontdict)\n",
    "plt.xlabel('Gender', fontdict=xlabel_fontdict)\n",
    "plt.ylabel('Number of Passengers', fontdict=ylabel_fontdict)\n",
    "\n",
    "# Show the plot\n",
    "plt.show()"
   ]
  },
  {
   "cell_type": "markdown",
   "id": "4ede801a-b8eb-4f11-9d75-dea03c4df57e",
   "metadata": {},
   "source": [
    "**Note:** This stacked bar chart illustrates the `distribution of passengers` across different classes, `separated by gender`."
   ]
  },
  {
   "cell_type": "markdown",
   "id": "1fc6beed-58b2-49b8-97bd-a01c79a0e17b",
   "metadata": {},
   "source": [
    "------------------"
   ]
  },
  {
   "cell_type": "code",
   "execution_count": 31,
   "id": "faeec749-db70-41fa-9ebe-59b1890bc9fd",
   "metadata": {},
   "outputs": [
    {
     "data": {
      "text/html": [
       "<div>\n",
       "<style scoped>\n",
       "    .dataframe tbody tr th:only-of-type {\n",
       "        vertical-align: middle;\n",
       "    }\n",
       "\n",
       "    .dataframe tbody tr th {\n",
       "        vertical-align: top;\n",
       "    }\n",
       "\n",
       "    .dataframe thead th {\n",
       "        text-align: right;\n",
       "    }\n",
       "</style>\n",
       "<table border=\"1\" class=\"dataframe\">\n",
       "  <thead>\n",
       "    <tr style=\"text-align: right;\">\n",
       "      <th>Pclass</th>\n",
       "      <th>1</th>\n",
       "      <th>2</th>\n",
       "      <th>3</th>\n",
       "    </tr>\n",
       "    <tr>\n",
       "      <th>Sex</th>\n",
       "      <th></th>\n",
       "      <th></th>\n",
       "      <th></th>\n",
       "    </tr>\n",
       "  </thead>\n",
       "  <tbody>\n",
       "    <tr>\n",
       "      <th>female</th>\n",
       "      <td>92</td>\n",
       "      <td>76</td>\n",
       "      <td>144</td>\n",
       "    </tr>\n",
       "    <tr>\n",
       "      <th>male</th>\n",
       "      <td>122</td>\n",
       "      <td>108</td>\n",
       "      <td>347</td>\n",
       "    </tr>\n",
       "  </tbody>\n",
       "</table>\n",
       "</div>"
      ],
      "text/plain": [
       "Pclass    1    2    3\n",
       "Sex                  \n",
       "female   92   76  144\n",
       "male    122  108  347"
      ]
     },
     "execution_count": 31,
     "metadata": {},
     "output_type": "execute_result"
    }
   ],
   "source": [
    "pclass_gender_counts"
   ]
  },
  {
   "cell_type": "markdown",
   "id": "9b02a394-22f9-453e-86b9-d9948d504694",
   "metadata": {},
   "source": [
    "-----------"
   ]
  },
  {
   "cell_type": "code",
   "execution_count": null,
   "id": "705fbb30-969f-47c6-ba87-c8227e18f3a4",
   "metadata": {},
   "outputs": [],
   "source": []
  },
  {
   "cell_type": "markdown",
   "id": "4056f52d-d304-4e13-9e29-cee88d5732f0",
   "metadata": {},
   "source": [
    "## Survival Rate by Embarked Location"
   ]
  },
  {
   "cell_type": "code",
   "execution_count": 32,
   "id": "f3ab329a-0033-4a6f-8fbc-50a77557b31d",
   "metadata": {},
   "outputs": [],
   "source": [
    "# Count the number of passengers by embarkation point\n",
    "e_count = df['Embarked'].value_counts()"
   ]
  },
  {
   "cell_type": "code",
   "execution_count": 33,
   "id": "cff2d5a7-e288-4108-87e5-b672a5ca3cff",
   "metadata": {},
   "outputs": [
    {
     "data": {
      "image/png": "[encoded data removed]",
      "text/plain": [
       "<Figure size 640x480 with 1 Axes>"
      ]
     },
     "metadata": {},
     "output_type": "display_data"
    }
   ],
   "source": [
    "# Bar chart showing the number of passengers embarking at different locations\n",
    "plt.bar(e_count.index, e_count.values,edgecolor='green',color=('blue','orange','brown'))\n",
    "plt.title(\"Survival On The Basis Of Embarked\", fontdict=title_fontdict)\n",
    "plt.xlabel(\"Embarked\", fontdict=xlabel_fontdict)\n",
    "plt.ylabel(\"Survived\", fontdict=ylabel_fontdict)\n",
    "plt.show()"
   ]
  },
  {
   "cell_type": "markdown",
   "id": "9e901d00-8e6c-42c4-aae3-f686d5359734",
   "metadata": {},
   "source": [
    "**Note:** This chart shows the `number of passengers` boarding from each `embarkation point`."
   ]
  },
  {
   "cell_type": "code",
   "execution_count": null,
   "id": "7c2a3e68-8c73-4def-b533-fd637ecc7f6e",
   "metadata": {},
   "outputs": [],
   "source": []
  },
  {
   "cell_type": "markdown",
   "id": "cf95e2a0-5053-462a-b0a4-504619ecce92",
   "metadata": {},
   "source": [
    "## Distribution of Siblings Aboard"
   ]
  },
  {
   "cell_type": "code",
   "execution_count": 34,
   "id": "8b251ece-1d91-478d-9a00-e9b250e4e43f",
   "metadata": {},
   "outputs": [
    {
     "data": {
      "image/png": "[encoded data removed]",
      "text/plain": [
       "<Figure size 800x600 with 1 Axes>"
      ]
     },
     "metadata": {},
     "output_type": "display_data"
    }
   ],
   "source": [
    "# Plotting histogram\n",
    "plt.figure(figsize=(8, 6))\n",
    "plt.hist(df['SibSp'], bins=range(df['SibSp'].min(), df['SibSp'].max() + 2), color='orange', edgecolor='black')\n",
    "plt.title('Distribution of Siblings Aboard', fontdict=title_fontdict)\n",
    "plt.xlabel('Number of Siblings', fontdict=xlabel_fontdict)\n",
    "plt.ylabel('Number of Passengers', fontdict=ylabel_fontdict)\n",
    "plt.grid(True)\n",
    "plt.show()"
   ]
  },
  {
   "cell_type": "markdown",
   "id": "e3e1bb99-789e-46dc-bdc1-6d17e250022a",
   "metadata": {},
   "source": [
    "**Note:** This histogram displays `how many siblings` each passenger had aboard."
   ]
  },
  {
   "cell_type": "code",
   "execution_count": null,
   "id": "38cd0312-abb3-4420-9571-9d0098306d85",
   "metadata": {},
   "outputs": [],
   "source": []
  },
  {
   "cell_type": "markdown",
   "id": "17a7fa51-4f5b-4c67-ae32-2d6048755889",
   "metadata": {},
   "source": [
    "## Average Number of Siblings by Passenger Class"
   ]
  },
  {
   "cell_type": "code",
   "execution_count": 35,
   "id": "9d27aa8a-5947-4eb5-9cf6-98d083480423",
   "metadata": {},
   "outputs": [
    {
     "data": {
      "image/png": "[encoded data removed]",
      "text/plain": [
       "<Figure size 800x600 with 1 Axes>"
      ]
     },
     "metadata": {},
     "output_type": "display_data"
    }
   ],
   "source": [
    "# Group by 'Pclass' and calculate average 'SibSp'\n",
    "average_sibsp_by_pclass = df.groupby('Pclass')['SibSp'].mean()\n",
    "\n",
    "# Plotting bar chart\n",
    "plt.figure(figsize=(8, 6))\n",
    "average_sibsp_by_pclass.plot(kind='bar', color='lightcoral', edgecolor='black')\n",
    "plt.title('Average Number of Siblings Aboard by Passenger Class', fontdict=title_fontdict)\n",
    "plt.xlabel('Passenger Class', fontdict=xlabel_fontdict)\n",
    "plt.ylabel('Average Number of Siblings', fontdict=ylabel_fontdict)\n",
    "plt.xticks(rotation=0)\n",
    "plt.grid(True)\n",
    "plt.show()"
   ]
  },
  {
   "cell_type": "markdown",
   "id": "ed4597c7-c57f-492d-96aa-7a9d29a427be",
   "metadata": {},
   "source": [
    "**Note:** This chart shows the `average number of siblings` aboard for each passenger class."
   ]
  },
  {
   "cell_type": "code",
   "execution_count": null,
   "id": "86953d8a-5f93-48fb-9734-13de3b0e464c",
   "metadata": {},
   "outputs": [],
   "source": []
  },
  {
   "cell_type": "markdown",
   "id": "0c2a472b-52d1-45e0-99e9-e5cc4784fca1",
   "metadata": {},
   "source": [
    "## Siblings Aboard by Survival Status"
   ]
  },
  {
   "cell_type": "code",
   "execution_count": 36,
   "id": "a3801722-8018-4235-ab1d-fcb4c8316c5c",
   "metadata": {},
   "outputs": [
    {
     "data": {
      "text/plain": [
       "<Figure size 800x600 with 0 Axes>"
      ]
     },
     "metadata": {},
     "output_type": "display_data"
    },
    {
     "data": {
      "image/png": "[encoded data removed]",
      "text/plain": [
       "<Figure size 640x480 with 1 Axes>"
      ]
     },
     "metadata": {},
     "output_type": "display_data"
    }
   ],
   "source": [
    "# Plotting box plot\n",
    "plt.figure(figsize=(8, 6))\n",
    "df.boxplot(column='SibSp', by='Survived', grid=False, color='darkblue', patch_artist=True,\n",
    "           boxprops=dict(facecolor='skyblue', color='black'),\n",
    "           whiskerprops=dict(color='black'),\n",
    "           capprops=dict(color='black'),\n",
    "           medianprops=dict(color='red'))\n",
    "plt.title('Distribution of Siblings Aboard by Survival Status', fontdict=title_fontdict)\n",
    "plt.suptitle('')  # Remove default title\n",
    "plt.xlabel('Survival Status', fontdict=xlabel_fontdict)\n",
    "plt.ylabel('Number of Siblings', fontdict=ylabel_fontdict)\n",
    "plt.xticks([1, 2], ['Not Survived', 'Survived'], fontdict=ticklabel_fontdict)\n",
    "plt.grid(True)\n",
    "plt.show()"
   ]
  },
  {
   "cell_type": "markdown",
   "id": "62ad4c87-fff6-467e-a296-1de4f4e8d2c8",
   "metadata": {},
   "source": [
    "**Note:** This box plot visualizes the `distribution of siblings aboard`, comparing survivors to non-survivors."
   ]
  },
  {
   "cell_type": "code",
   "execution_count": null,
   "id": "d0266ff9-13b2-4219-a458-35cda9400205",
   "metadata": {},
   "outputs": [],
   "source": []
  },
  {
   "cell_type": "markdown",
   "id": "3ef8b422-5bb0-4e4e-8d0a-6e610edeef50",
   "metadata": {},
   "source": [
    "# Fare Distribution"
   ]
  },
  {
   "cell_type": "code",
   "execution_count": 37,
   "id": "0b6683a9-a141-4b83-8c59-b0ad01b69a97",
   "metadata": {},
   "outputs": [],
   "source": [
    "# Create a new feature for family size\n",
    "df['FamilySize'] = df['SibSp'] + df['Parch'] + 1"
   ]
  },
  {
   "cell_type": "code",
   "execution_count": 38,
   "id": "1753a5d3-e058-483f-b083-eb33b4ab6e80",
   "metadata": {},
   "outputs": [],
   "source": [
    "# Group by family size and calculate survival rate\n",
    "family_size_survival = df.groupby('FamilySize')['Survived'].mean()"
   ]
  },
  {
   "cell_type": "code",
   "execution_count": 39,
   "id": "f3e50d02-78ab-49b8-af6d-295d0dc02a47",
   "metadata": {},
   "outputs": [
    {
     "data": {
      "image/png": "[encoded data removed]",
      "text/plain": [
       "<Figure size 1000x600 with 1 Axes>"
      ]
     },
     "metadata": {},
     "output_type": "display_data"
    }
   ],
   "source": [
    "# Bar chart showing survival rates by family size\n",
    "plt.figure(figsize=(10, 6))\n",
    "family_size_survival.plot(kind='bar', color='coral', edgecolor='green')\n",
    "plt.title('Survival Rate by Family Size', fontdict=title_fontdict)\n",
    "plt.xlabel('Family Size', fontdict=xlabel_fontdict)\n",
    "plt.ylabel('Survival Rate', fontdict=ylabel_fontdict)\n",
    "plt.xticks(rotation=0)\n",
    "plt.grid(True)\n",
    "plt.show()"
   ]
  },
  {
   "cell_type": "markdown",
   "id": "0ed2ed40-7c7f-415d-af59-fbfc0a5a7bbd",
   "metadata": {},
   "source": [
    "**Note:** Examining survival rates based on family size can provide insights into the impact of having family aboard."
   ]
  },
  {
   "cell_type": "code",
   "execution_count": null,
   "id": "96497e71-77b0-4757-b0ab-ab92c1a5d46a",
   "metadata": {},
   "outputs": [],
   "source": []
  },
  {
   "cell_type": "markdown",
   "id": "62c6db4c-bb73-4cff-85ed-78b7e750c7e3",
   "metadata": {},
   "source": [
    "# Detailed Analysis of Embarked Locations"
   ]
  },
  {
   "cell_type": "code",
   "execution_count": 40,
   "id": "308d3e29-4125-4190-90e8-f2d9714aff3b",
   "metadata": {},
   "outputs": [],
   "source": [
    "# Survival rate by embarkation point\n",
    "embarked_survival = df.groupby('Embarked')['Survived'].mean()"
   ]
  },
  {
   "cell_type": "code",
   "execution_count": 41,
   "id": "878d92b5-7485-4f77-8be4-d7d5bd0efc53",
   "metadata": {},
   "outputs": [
    {
     "data": {
      "image/png": "[encoded data removed]",
      "text/plain": [
       "<Figure size 800x600 with 1 Axes>"
      ]
     },
     "metadata": {},
     "output_type": "display_data"
    }
   ],
   "source": [
    "# Bar chart showing survival rates by embarkation point\n",
    "plt.figure(figsize=(8, 6))\n",
    "embarked_survival.plot(kind='bar', color='brown', edgecolor='black')\n",
    "plt.title('Survival Rate by Embarked Location', fontdict=title_fontdict)\n",
    "plt.xlabel('Embarked Location', fontdict=xlabel_fontdict)\n",
    "plt.ylabel('Survival Rate', fontdict=ylabel_fontdict)\n",
    "plt.grid(True)\n",
    "plt.show()"
   ]
  },
  {
   "cell_type": "markdown",
   "id": "7e0cffdd-d587-47b0-8aa9-6bafcdf1d108",
   "metadata": {},
   "source": [
    "**Note:** This analysis provides `survival rates for each embarkation point`, giving additional context to `previous charts`."
   ]
  },
  {
   "cell_type": "code",
   "execution_count": null,
   "id": "06632f43-c57f-4cbd-82e6-31df6764eae4",
   "metadata": {},
   "outputs": [],
   "source": []
  },
  {
   "cell_type": "markdown",
   "id": "e6725bce-a5aa-444c-a5dd-b1b557f7b7cc",
   "metadata": {},
   "source": [
    "# Survival by Parch and SibSp"
   ]
  },
  {
   "cell_type": "code",
   "execution_count": 42,
   "id": "311e9c4a-a467-46fe-a7af-c2ef710000bd",
   "metadata": {},
   "outputs": [],
   "source": [
    "# Group by 'Parch' and 'SibSp' and calculate survival rates\n",
    "parch_sibsp_survival = df.groupby(['Parch', 'SibSp'])['Survived'].mean().unstack()"
   ]
  },
  {
   "cell_type": "code",
   "execution_count": 43,
   "id": "b1150cae-79b2-481d-911f-e247a4f00458",
   "metadata": {},
   "outputs": [
    {
     "data": {
      "image/png": "[encoded data removed]",
      "text/plain": [
       "<Figure size 1000x800 with 2 Axes>"
      ]
     },
     "metadata": {},
     "output_type": "display_data"
    }
   ],
   "source": [
    "# Heatmap showing survival rates by number of parents/children and siblings/spouses\n",
    "plt.figure(figsize=(10, 8))\n",
    "sns.heatmap(parch_sibsp_survival, annot=True, cmap='YlGnBu', fmt='.2f')\n",
    "plt.title('Survival Rate by Parch and SibSp', fontdict=title_fontdict)\n",
    "plt.xlabel('Number of Siblings', fontdict=xlabel_fontdict)\n",
    "plt.ylabel('Number of Parents/Children', fontdict=ylabel_fontdict)\n",
    "plt.show()"
   ]
  },
  {
   "cell_type": "markdown",
   "id": "ba9f85d5-c9ba-429d-9600-1b9d374bae8b",
   "metadata": {},
   "source": [
    "**Note:** This heatmap provides a detailed view of how `survival rates` vary with the number of `parents/children` and `siblings/spouses`."
   ]
  },
  {
   "cell_type": "code",
   "execution_count": null,
   "id": "3892aee5-d9e0-45d6-9807-f3c10d01e6fc",
   "metadata": {},
   "outputs": [],
   "source": []
  },
  {
   "cell_type": "markdown",
   "id": "0f3e568c-580f-4a88-b044-1e5498a9a13d",
   "metadata": {},
   "source": [
    "# Survival Rate by Parch"
   ]
  },
  {
   "cell_type": "code",
   "execution_count": 44,
   "id": "01f48e25-0846-4b68-a8bb-be74e2045fde",
   "metadata": {},
   "outputs": [],
   "source": [
    "# Group by 'Parch' and calculate survival rate\n",
    "parch_survival = df.groupby('Parch')['Survived'].mean()"
   ]
  },
  {
   "cell_type": "code",
   "execution_count": 45,
   "id": "a62c481e-18e1-4c7c-acc1-f67d1d98b1ff",
   "metadata": {},
   "outputs": [
    {
     "data": {
      "image/png": "[encoded data removed]",
      "text/plain": [
       "<Figure size 1000x600 with 1 Axes>"
      ]
     },
     "metadata": {},
     "output_type": "display_data"
    }
   ],
   "source": [
    "# Plotting bar chart for survival rates by 'Parch'\n",
    "plt.figure(figsize=(10, 6))\n",
    "parch_survival.plot(kind='bar', color='skyblue', edgecolor='black')\n",
    "plt.title('Survival Rate by Number of Parents/Children Aboard', fontdict=title_fontdict)\n",
    "plt.xlabel('Number of ParCh', fontdict=xlabel_fontdict)\n",
    "plt.ylabel('Survival Rate', fontdict=ylabel_fontdict)\n",
    "plt.xticks(rotation=0)\n",
    "plt.grid(True)\n",
    "plt.show()"
   ]
  },
  {
   "cell_type": "markdown",
   "id": "6726a9bc-ed1e-4531-97fa-2bd6d5a62c26",
   "metadata": {},
   "source": [
    "**Note:** This bar chart shows how the `survival rate changes` with the `number of parents or children` aboard."
   ]
  },
  {
   "cell_type": "code",
   "execution_count": null,
   "id": "2dbff4b1-e381-4d5a-964c-c28964f249cc",
   "metadata": {},
   "outputs": [],
   "source": []
  },
  {
   "cell_type": "code",
   "execution_count": null,
   "id": "3770ef9a-d997-4d26-b0f6-ba2e99e77bc3",
   "metadata": {},
   "outputs": [],
   "source": []
  },
  {
   "cell_type": "markdown",
   "id": "072e40a9-a027-4557-8916-e3f07ba6d024",
   "metadata": {},
   "source": [
    "# Summary and Conclusion"
   ]
  },
  {
   "cell_type": "markdown",
   "id": "ae0bec3d-6d9c-4851-a8ee-80aeeaf1dd74",
   "metadata": {},
   "source": [
    "In this analysis, we explored the Titanic dataset to understand various factors affecting survival rates. Key findings include:\n",
    "\n",
    "* The majority of passengers were male.\n",
    "* Female passengers had a higher survival rate compared to male passengers.\n",
    "* Passengers in higher classes had better survival rates.\n",
    "* Passengers embarking from locations C ,Q and S had distinct patterns in terms of survival."
   ]
  },
  {
   "cell_type": "code",
   "execution_count": null,
   "id": "32d251b8-ffa8-40da-8a80-1726e4c07d14",
   "metadata": {},
   "outputs": [],
   "source": []
  },
  {
   "cell_type": "markdown",
   "id": "9ba6e5ad-34e6-498e-a06e-94ba9f557d71",
   "metadata": {},
   "source": [
    "### Import Libraries For Machine Learning"
   ]
  },
  {
   "cell_type": "code",
   "execution_count": 46,
   "id": "c6485a8b-f8c5-40b9-a4fe-88c2531b720d",
   "metadata": {},
   "outputs": [],
   "source": [
    "from sklearn.linear_model import LogisticRegression\n",
    "from sklearn.model_selection import train_test_split\n",
    "from sklearn.preprocessing import StandardScaler\n",
    "from sklearn.metrics import confusion_matrix"
   ]
  },
  {
   "cell_type": "code",
   "execution_count": 47,
   "id": "29724507-40f8-4915-afbe-2d22047035cd",
   "metadata": {},
   "outputs": [
    {
     "data": {
      "text/html": [
       "<div>\n",
       "<style scoped>\n",
       "    .dataframe tbody tr th:only-of-type {\n",
       "        vertical-align: middle;\n",
       "    }\n",
       "\n",
       "    .dataframe tbody tr th {\n",
       "        vertical-align: top;\n",
       "    }\n",
       "\n",
       "    .dataframe thead th {\n",
       "        text-align: right;\n",
       "    }\n",
       "</style>\n",
       "<table border=\"1\" class=\"dataframe\">\n",
       "  <thead>\n",
       "    <tr style=\"text-align: right;\">\n",
       "      <th></th>\n",
       "      <th>Survived</th>\n",
       "      <th>Pclass</th>\n",
       "      <th>Sex</th>\n",
       "      <th>Age</th>\n",
       "      <th>SibSp</th>\n",
       "      <th>Parch</th>\n",
       "      <th>Embarked</th>\n",
       "      <th>FamilySize</th>\n",
       "    </tr>\n",
       "  </thead>\n",
       "  <tbody>\n",
       "    <tr>\n",
       "      <th>0</th>\n",
       "      <td>0</td>\n",
       "      <td>3</td>\n",
       "      <td>male</td>\n",
       "      <td>22.0</td>\n",
       "      <td>1</td>\n",
       "      <td>0</td>\n",
       "      <td>S</td>\n",
       "      <td>2</td>\n",
       "    </tr>\n",
       "    <tr>\n",
       "      <th>1</th>\n",
       "      <td>1</td>\n",
       "      <td>1</td>\n",
       "      <td>female</td>\n",
       "      <td>38.0</td>\n",
       "      <td>1</td>\n",
       "      <td>0</td>\n",
       "      <td>C</td>\n",
       "      <td>2</td>\n",
       "    </tr>\n",
       "    <tr>\n",
       "      <th>2</th>\n",
       "      <td>1</td>\n",
       "      <td>3</td>\n",
       "      <td>female</td>\n",
       "      <td>26.0</td>\n",
       "      <td>0</td>\n",
       "      <td>0</td>\n",
       "      <td>S</td>\n",
       "      <td>1</td>\n",
       "    </tr>\n",
       "    <tr>\n",
       "      <th>3</th>\n",
       "      <td>1</td>\n",
       "      <td>1</td>\n",
       "      <td>female</td>\n",
       "      <td>35.0</td>\n",
       "      <td>1</td>\n",
       "      <td>0</td>\n",
       "      <td>S</td>\n",
       "      <td>2</td>\n",
       "    </tr>\n",
       "    <tr>\n",
       "      <th>4</th>\n",
       "      <td>0</td>\n",
       "      <td>3</td>\n",
       "      <td>male</td>\n",
       "      <td>35.0</td>\n",
       "      <td>0</td>\n",
       "      <td>0</td>\n",
       "      <td>S</td>\n",
       "      <td>1</td>\n",
       "    </tr>\n",
       "  </tbody>\n",
       "</table>\n",
       "</div>"
      ],
      "text/plain": [
       "   Survived  Pclass     Sex   Age  SibSp  Parch Embarked  FamilySize\n",
       "0         0       3    male  22.0      1      0        S           2\n",
       "1         1       1  female  38.0      1      0        C           2\n",
       "2         1       3  female  26.0      0      0        S           1\n",
       "3         1       1  female  35.0      1      0        S           2\n",
       "4         0       3    male  35.0      0      0        S           1"
      ]
     },
     "execution_count": 47,
     "metadata": {},
     "output_type": "execute_result"
    }
   ],
   "source": [
    "df.head()"
   ]
  },
  {
   "cell_type": "code",
   "execution_count": null,
   "id": "9b9b8c9a-cb73-4f4d-bb00-e526bce0a419",
   "metadata": {},
   "outputs": [],
   "source": []
  },
  {
   "cell_type": "markdown",
   "id": "382ac659-beae-4472-8cfe-bf9e5394917a",
   "metadata": {},
   "source": [
    "#### Create function for dataset to perform operation\n",
    "- For the sex column, we set a value of 0 if the passenger is male and 1 if the passenger is female.\r",
    "- \r\n",
    "We use the mean value to fill the missing data in the age columns- \r\n",
    "\r\n",
    "We use one-hot encoding for the Pcla- s.\r\n",
    "\r\n",
    "We’ll only select six features from our DataFrame."
   ]
  },
  {
   "cell_type": "code",
   "execution_count": 48,
   "id": "274eed80-7447-4979-8dda-9059e8768ad9",
   "metadata": {},
   "outputs": [],
   "source": [
    "def manipulate_df(df):\n",
    "    # Update sex column to numerical\n",
    "    df['Sex'] = df['Sex'].map(lambda x: 0 if x == 'male' else 1)\n",
    "    # Create a first class column\n",
    "    df['FirstClass'] = df['Pclass'].map(lambda x: 1 if x == 1 else 0)\n",
    "    # Create a second class column\n",
    "    df['SecondClass'] = df['Pclass'].map(lambda x: 1 if x == 2 else 0)\n",
    "    # Create a second class column\n",
    "    df['ThirdClass'] = df['Pclass'].map(lambda x: 1 if x == 3 else 0)\n",
    "    # Select the desired features\n",
    "    df= df[['Sex' , 'Age' , 'FirstClass', 'SecondClass' ,'ThirdClass' , 'Survived']]\n",
    "    return df"
   ]
  },
  {
   "cell_type": "markdown",
   "id": "e1cfb036-cce9-48ca-b4bf-9d5aac703d83",
   "metadata": {},
   "source": [
    "#### Apply function on our dataset"
   ]
  },
  {
   "cell_type": "code",
   "execution_count": 49,
   "id": "e77260a0-5617-46f9-8076-aa9f21ead657",
   "metadata": {},
   "outputs": [],
   "source": [
    "manipulated_df = manipulate_df(df)"
   ]
  },
  {
   "cell_type": "code",
   "execution_count": null,
   "id": "9eae1ab0-3266-450a-8a25-c3a6cfe1aa84",
   "metadata": {},
   "outputs": [],
   "source": []
  },
  {
   "cell_type": "markdown",
   "id": "7088c5f5-3278-44c4-b712-06b667d3d3ea",
   "metadata": {},
   "source": [
    "### Train-test split\n",
    "- We’ll split the dataset into two parts, 70% of it for training and the remaining 30% for testing."
   ]
  },
  {
   "cell_type": "code",
   "execution_count": 50,
   "id": "e48ac017-9d68-4025-a5be-1e893500b8e6",
   "metadata": {},
   "outputs": [],
   "source": [
    "features= df[['Sex' , 'Age' , 'FirstClass', 'SecondClass','ThirdClass']] # Another way of doing this is df.drop(\"Survived\")\n",
    "survival = df['Survived']\n",
    "# Here features is X value and survival is target attribute or y value"
   ]
  },
  {
   "cell_type": "code",
   "execution_count": 51,
   "id": "2daa3362-0670-4aee-8d76-ff2c7f480057",
   "metadata": {},
   "outputs": [],
   "source": [
    "X_train , X_test , y_train , y_test = train_test_split(features , survival ,test_size = 0.3)"
   ]
  },
  {
   "cell_type": "code",
   "execution_count": null,
   "id": "f2ea028b-55ec-4eed-8d74-2d9ed86c7b59",
   "metadata": {},
   "outputs": [],
   "source": []
  },
  {
   "cell_type": "markdown",
   "id": "632b0812-961b-48fb-88a2-b4c5e4e85fa2",
   "metadata": {},
   "source": [
    "#### Scale the date"
   ]
  },
  {
   "cell_type": "code",
   "execution_count": 52,
   "id": "6e5afeab-4712-4504-9e26-f4e5769231ee",
   "metadata": {},
   "outputs": [],
   "source": [
    "scaler = StandardScaler()\n",
    "train_features = scaler.fit_transform(X_train)\n",
    "test_features = scaler.transform(X_test)"
   ]
  },
  {
   "cell_type": "code",
   "execution_count": 53,
   "id": "fd3df232-59f1-4dd4-8641-0ae509ec0ff4",
   "metadata": {},
   "outputs": [
    {
     "name": "stdout",
     "output_type": "stream",
     "text": [
      "[[-0.73198529 -1.41992363 -0.55878107 -0.50902781  0.89313373]\n",
      " [-0.73198529  0.22312087 -0.55878107  1.96452921 -1.11965316]\n",
      " [-0.73198529  0.45784151 -0.55878107 -0.50902781  0.89313373]\n",
      " ...\n",
      " [-0.73198529 -2.04584535 -0.55878107  1.96452921 -1.11965316]\n",
      " [-0.73198529 -1.57640406 -0.55878107 -0.50902781  0.89313373]\n",
      " [ 1.36614767 -1.18520299  1.78960965 -0.50902781 -1.11965316]]\n"
     ]
    }
   ],
   "source": [
    "print(test_features)"
   ]
  },
  {
   "cell_type": "code",
   "execution_count": null,
   "id": "e210cf72-a7b8-4435-b0a0-3aecf717fa4c",
   "metadata": {},
   "outputs": [],
   "source": []
  },
  {
   "cell_type": "markdown",
   "id": "c4f873a3-1f51-4b4a-bf3b-9dc3064aa6ef",
   "metadata": {},
   "source": [
    "### Build the model#\r\n",
    "Let’s train the model and predict the results."
   ]
  },
  {
   "cell_type": "code",
   "execution_count": 54,
   "id": "6dc533fa-5cd6-4b29-b9c6-ad4e32345c03",
   "metadata": {},
   "outputs": [
    {
     "data": {
      "text/html": [
       "<style>#sk-container-id-1 {\n",
       "  /* Definition of color scheme common for light and dark mode */\n",
       "  --sklearn-color-text: black;\n",
       "  --sklearn-color-line: gray;\n",
       "  /* Definition of color scheme for unfitted estimators */\n",
       "  --sklearn-color-unfitted-level-0: #fff5e6;\n",
       "  --sklearn-color-unfitted-level-1: #f6e4d2;\n",
       "  --sklearn-color-unfitted-level-2: #ffe0b3;\n",
       "  --sklearn-color-unfitted-level-3: chocolate;\n",
       "  /* Definition of color scheme for fitted estimators */\n",
       "  --sklearn-color-fitted-level-0: #f0f8ff;\n",
       "  --sklearn-color-fitted-level-1: #d4ebff;\n",
       "  --sklearn-color-fitted-level-2: #b3dbfd;\n",
       "  --sklearn-color-fitted-level-3: cornflowerblue;\n",
       "\n",
       "  /* Specific color for light theme */\n",
       "  --sklearn-color-text-on-default-background: var(--sg-text-color, var(--theme-code-foreground, var(--jp-content-font-color1, black)));\n",
       "  --sklearn-color-background: var(--sg-background-color, var(--theme-background, var(--jp-layout-color0, white)));\n",
       "  --sklearn-color-border-box: var(--sg-text-color, var(--theme-code-foreground, var(--jp-content-font-color1, black)));\n",
       "  --sklearn-color-icon: #696969;\n",
       "\n",
       "  @media (prefers-color-scheme: dark) {\n",
       "    /* Redefinition of color scheme for dark theme */\n",
       "    --sklearn-color-text-on-default-background: var(--sg-text-color, var(--theme-code-foreground, var(--jp-content-font-color1, white)));\n",
       "    --sklearn-color-background: var(--sg-background-color, var(--theme-background, var(--jp-layout-color0, #111)));\n",
       "    --sklearn-color-border-box: var(--sg-text-color, var(--theme-code-foreground, var(--jp-content-font-color1, white)));\n",
       "    --sklearn-color-icon: #878787;\n",
       "  }\n",
       "}\n",
       "\n",
       "#sk-container-id-1 {\n",
       "  color: var(--sklearn-color-text);\n",
       "}\n",
       "\n",
       "#sk-container-id-1 pre {\n",
       "  padding: 0;\n",
       "}\n",
       "\n",
       "#sk-container-id-1 input.sk-hidden--visually {\n",
       "  border: 0;\n",
       "  clip: rect(1px 1px 1px 1px);\n",
       "  clip: rect(1px, 1px, 1px, 1px);\n",
       "  height: 1px;\n",
       "  margin: -1px;\n",
       "  overflow: hidden;\n",
       "  padding: 0;\n",
       "  position: absolute;\n",
       "  width: 1px;\n",
       "}\n",
       "\n",
       "#sk-container-id-1 div.sk-dashed-wrapped {\n",
       "  border: 1px dashed var(--sklearn-color-line);\n",
       "  margin: 0 0.4em 0.5em 0.4em;\n",
       "  box-sizing: border-box;\n",
       "  padding-bottom: 0.4em;\n",
       "  background-color: var(--sklearn-color-background);\n",
       "}\n",
       "\n",
       "#sk-container-id-1 div.sk-container {\n",
       "  /* jupyter's `normalize.less` sets `[hidden] { display: none; }`\n",
       "     but bootstrap.min.css set `[hidden] { display: none !important; }`\n",
       "     so we also need the `!important` here to be able to override the\n",
       "     default hidden behavior on the sphinx rendered scikit-learn.org.\n",
       "     See: https://github.com/scikit-learn/scikit-learn/issues/21755 */\n",
       "  display: inline-block !important;\n",
       "  position: relative;\n",
       "}\n",
       "\n",
       "#sk-container-id-1 div.sk-text-repr-fallback {\n",
       "  display: none;\n",
       "}\n",
       "\n",
       "div.sk-parallel-item,\n",
       "div.sk-serial,\n",
       "div.sk-item {\n",
       "  /* draw centered vertical line to link estimators */\n",
       "  background-image: linear-gradient(var(--sklearn-color-text-on-default-background), var(--sklearn-color-text-on-default-background));\n",
       "  background-size: 2px 100%;\n",
       "  background-repeat: no-repeat;\n",
       "  background-position: center center;\n",
       "}\n",
       "\n",
       "/* Parallel-specific style estimator block */\n",
       "\n",
       "#sk-container-id-1 div.sk-parallel-item::after {\n",
       "  content: \"\";\n",
       "  width: 100%;\n",
       "  border-bottom: 2px solid var(--sklearn-color-text-on-default-background);\n",
       "  flex-grow: 1;\n",
       "}\n",
       "\n",
       "#sk-container-id-1 div.sk-parallel {\n",
       "  display: flex;\n",
       "  align-items: stretch;\n",
       "  justify-content: center;\n",
       "  background-color: var(--sklearn-color-background);\n",
       "  position: relative;\n",
       "}\n",
       "\n",
       "#sk-container-id-1 div.sk-parallel-item {\n",
       "  display: flex;\n",
       "  flex-direction: column;\n",
       "}\n",
       "\n",
       "#sk-container-id-1 div.sk-parallel-item:first-child::after {\n",
       "  align-self: flex-end;\n",
       "  width: 50%;\n",
       "}\n",
       "\n",
       "#sk-container-id-1 div.sk-parallel-item:last-child::after {\n",
       "  align-self: flex-start;\n",
       "  width: 50%;\n",
       "}\n",
       "\n",
       "#sk-container-id-1 div.sk-parallel-item:only-child::after {\n",
       "  width: 0;\n",
       "}\n",
       "\n",
       "/* Serial-specific style estimator block */\n",
       "\n",
       "#sk-container-id-1 div.sk-serial {\n",
       "  display: flex;\n",
       "  flex-direction: column;\n",
       "  align-items: center;\n",
       "  background-color: var(--sklearn-color-background);\n",
       "  padding-right: 1em;\n",
       "  padding-left: 1em;\n",
       "}\n",
       "\n",
       "\n",
       "/* Toggleable style: style used for estimator/Pipeline/ColumnTransformer box that is\n",
       "clickable and can be expanded/collapsed.\n",
       "- Pipeline and ColumnTransformer use this feature and define the default style\n",
       "- Estimators will overwrite some part of the style using the `sk-estimator` class\n",
       "*/\n",
       "\n",
       "/* Pipeline and ColumnTransformer style (default) */\n",
       "\n",
       "#sk-container-id-1 div.sk-toggleable {\n",
       "  /* Default theme specific background. It is overwritten whether we have a\n",
       "  specific estimator or a Pipeline/ColumnTransformer */\n",
       "  background-color: var(--sklearn-color-background);\n",
       "}\n",
       "\n",
       "/* Toggleable label */\n",
       "#sk-container-id-1 label.sk-toggleable__label {\n",
       "  cursor: pointer;\n",
       "  display: block;\n",
       "  width: 100%;\n",
       "  margin-bottom: 0;\n",
       "  padding: 0.5em;\n",
       "  box-sizing: border-box;\n",
       "  text-align: center;\n",
       "}\n",
       "\n",
       "#sk-container-id-1 label.sk-toggleable__label-arrow:before {\n",
       "  /* Arrow on the left of the label */\n",
       "  content: \"▸\";\n",
       "  float: left;\n",
       "  margin-right: 0.25em;\n",
       "  color: var(--sklearn-color-icon);\n",
       "}\n",
       "\n",
       "#sk-container-id-1 label.sk-toggleable__label-arrow:hover:before {\n",
       "  color: var(--sklearn-color-text);\n",
       "}\n",
       "\n",
       "/* Toggleable content - dropdown */\n",
       "\n",
       "#sk-container-id-1 div.sk-toggleable__content {\n",
       "  max-height: 0;\n",
       "  max-width: 0;\n",
       "  overflow: hidden;\n",
       "  text-align: left;\n",
       "  /* unfitted */\n",
       "  background-color: var(--sklearn-color-unfitted-level-0);\n",
       "}\n",
       "\n",
       "#sk-container-id-1 div.sk-toggleable__content.fitted {\n",
       "  /* fitted */\n",
       "  background-color: var(--sklearn-color-fitted-level-0);\n",
       "}\n",
       "\n",
       "#sk-container-id-1 div.sk-toggleable__content pre {\n",
       "  margin: 0.2em;\n",
       "  border-radius: 0.25em;\n",
       "  color: var(--sklearn-color-text);\n",
       "  /* unfitted */\n",
       "  background-color: var(--sklearn-color-unfitted-level-0);\n",
       "}\n",
       "\n",
       "#sk-container-id-1 div.sk-toggleable__content.fitted pre {\n",
       "  /* unfitted */\n",
       "  background-color: var(--sklearn-color-fitted-level-0);\n",
       "}\n",
       "\n",
       "#sk-container-id-1 input.sk-toggleable__control:checked~div.sk-toggleable__content {\n",
       "  /* Expand drop-down */\n",
       "  max-height: 200px;\n",
       "  max-width: 100%;\n",
       "  overflow: auto;\n",
       "}\n",
       "\n",
       "#sk-container-id-1 input.sk-toggleable__control:checked~label.sk-toggleable__label-arrow:before {\n",
       "  content: \"▾\";\n",
       "}\n",
       "\n",
       "/* Pipeline/ColumnTransformer-specific style */\n",
       "\n",
       "#sk-container-id-1 div.sk-label input.sk-toggleable__control:checked~label.sk-toggleable__label {\n",
       "  color: var(--sklearn-color-text);\n",
       "  background-color: var(--sklearn-color-unfitted-level-2);\n",
       "}\n",
       "\n",
       "#sk-container-id-1 div.sk-label.fitted input.sk-toggleable__control:checked~label.sk-toggleable__label {\n",
       "  background-color: var(--sklearn-color-fitted-level-2);\n",
       "}\n",
       "\n",
       "/* Estimator-specific style */\n",
       "\n",
       "/* Colorize estimator box */\n",
       "#sk-container-id-1 div.sk-estimator input.sk-toggleable__control:checked~label.sk-toggleable__label {\n",
       "  /* unfitted */\n",
       "  background-color: var(--sklearn-color-unfitted-level-2);\n",
       "}\n",
       "\n",
       "#sk-container-id-1 div.sk-estimator.fitted input.sk-toggleable__control:checked~label.sk-toggleable__label {\n",
       "  /* fitted */\n",
       "  background-color: var(--sklearn-color-fitted-level-2);\n",
       "}\n",
       "\n",
       "#sk-container-id-1 div.sk-label label.sk-toggleable__label,\n",
       "#sk-container-id-1 div.sk-label label {\n",
       "  /* The background is the default theme color */\n",
       "  color: var(--sklearn-color-text-on-default-background);\n",
       "}\n",
       "\n",
       "/* On hover, darken the color of the background */\n",
       "#sk-container-id-1 div.sk-label:hover label.sk-toggleable__label {\n",
       "  color: var(--sklearn-color-text);\n",
       "  background-color: var(--sklearn-color-unfitted-level-2);\n",
       "}\n",
       "\n",
       "/* Label box, darken color on hover, fitted */\n",
       "#sk-container-id-1 div.sk-label.fitted:hover label.sk-toggleable__label.fitted {\n",
       "  color: var(--sklearn-color-text);\n",
       "  background-color: var(--sklearn-color-fitted-level-2);\n",
       "}\n",
       "\n",
       "/* Estimator label */\n",
       "\n",
       "#sk-container-id-1 div.sk-label label {\n",
       "  font-family: monospace;\n",
       "  font-weight: bold;\n",
       "  display: inline-block;\n",
       "  line-height: 1.2em;\n",
       "}\n",
       "\n",
       "#sk-container-id-1 div.sk-label-container {\n",
       "  text-align: center;\n",
       "}\n",
       "\n",
       "/* Estimator-specific */\n",
       "#sk-container-id-1 div.sk-estimator {\n",
       "  font-family: monospace;\n",
       "  border: 1px dotted var(--sklearn-color-border-box);\n",
       "  border-radius: 0.25em;\n",
       "  box-sizing: border-box;\n",
       "  margin-bottom: 0.5em;\n",
       "  /* unfitted */\n",
       "  background-color: var(--sklearn-color-unfitted-level-0);\n",
       "}\n",
       "\n",
       "#sk-container-id-1 div.sk-estimator.fitted {\n",
       "  /* fitted */\n",
       "  background-color: var(--sklearn-color-fitted-level-0);\n",
       "}\n",
       "\n",
       "/* on hover */\n",
       "#sk-container-id-1 div.sk-estimator:hover {\n",
       "  /* unfitted */\n",
       "  background-color: var(--sklearn-color-unfitted-level-2);\n",
       "}\n",
       "\n",
       "#sk-container-id-1 div.sk-estimator.fitted:hover {\n",
       "  /* fitted */\n",
       "  background-color: var(--sklearn-color-fitted-level-2);\n",
       "}\n",
       "\n",
       "/* Specification for estimator info (e.g. \"i\" and \"?\") */\n",
       "\n",
       "/* Common style for \"i\" and \"?\" */\n",
       "\n",
       ".sk-estimator-doc-link,\n",
       "a:link.sk-estimator-doc-link,\n",
       "a:visited.sk-estimator-doc-link {\n",
       "  float: right;\n",
       "  font-size: smaller;\n",
       "  line-height: 1em;\n",
       "  font-family: monospace;\n",
       "  background-color: var(--sklearn-color-background);\n",
       "  border-radius: 1em;\n",
       "  height: 1em;\n",
       "  width: 1em;\n",
       "  text-decoration: none !important;\n",
       "  margin-left: 1ex;\n",
       "  /* unfitted */\n",
       "  border: var(--sklearn-color-unfitted-level-1) 1pt solid;\n",
       "  color: var(--sklearn-color-unfitted-level-1);\n",
       "}\n",
       "\n",
       ".sk-estimator-doc-link.fitted,\n",
       "a:link.sk-estimator-doc-link.fitted,\n",
       "a:visited.sk-estimator-doc-link.fitted {\n",
       "  /* fitted */\n",
       "  border: var(--sklearn-color-fitted-level-1) 1pt solid;\n",
       "  color: var(--sklearn-color-fitted-level-1);\n",
       "}\n",
       "\n",
       "/* On hover */\n",
       "div.sk-estimator:hover .sk-estimator-doc-link:hover,\n",
       ".sk-estimator-doc-link:hover,\n",
       "div.sk-label-container:hover .sk-estimator-doc-link:hover,\n",
       ".sk-estimator-doc-link:hover {\n",
       "  /* unfitted */\n",
       "  background-color: var(--sklearn-color-unfitted-level-3);\n",
       "  color: var(--sklearn-color-background);\n",
       "  text-decoration: none;\n",
       "}\n",
       "\n",
       "div.sk-estimator.fitted:hover .sk-estimator-doc-link.fitted:hover,\n",
       ".sk-estimator-doc-link.fitted:hover,\n",
       "div.sk-label-container:hover .sk-estimator-doc-link.fitted:hover,\n",
       ".sk-estimator-doc-link.fitted:hover {\n",
       "  /* fitted */\n",
       "  background-color: var(--sklearn-color-fitted-level-3);\n",
       "  color: var(--sklearn-color-background);\n",
       "  text-decoration: none;\n",
       "}\n",
       "\n",
       "/* Span, style for the box shown on hovering the info icon */\n",
       ".sk-estimator-doc-link span {\n",
       "  display: none;\n",
       "  z-index: 9999;\n",
       "  position: relative;\n",
       "  font-weight: normal;\n",
       "  right: .2ex;\n",
       "  padding: .5ex;\n",
       "  margin: .5ex;\n",
       "  width: min-content;\n",
       "  min-width: 20ex;\n",
       "  max-width: 50ex;\n",
       "  color: var(--sklearn-color-text);\n",
       "  box-shadow: 2pt 2pt 4pt #999;\n",
       "  /* unfitted */\n",
       "  background: var(--sklearn-color-unfitted-level-0);\n",
       "  border: .5pt solid var(--sklearn-color-unfitted-level-3);\n",
       "}\n",
       "\n",
       ".sk-estimator-doc-link.fitted span {\n",
       "  /* fitted */\n",
       "  background: var(--sklearn-color-fitted-level-0);\n",
       "  border: var(--sklearn-color-fitted-level-3);\n",
       "}\n",
       "\n",
       ".sk-estimator-doc-link:hover span {\n",
       "  display: block;\n",
       "}\n",
       "\n",
       "/* \"?\"-specific style due to the `<a>` HTML tag */\n",
       "\n",
       "#sk-container-id-1 a.estimator_doc_link {\n",
       "  float: right;\n",
       "  font-size: 1rem;\n",
       "  line-height: 1em;\n",
       "  font-family: monospace;\n",
       "  background-color: var(--sklearn-color-background);\n",
       "  border-radius: 1rem;\n",
       "  height: 1rem;\n",
       "  width: 1rem;\n",
       "  text-decoration: none;\n",
       "  /* unfitted */\n",
       "  color: var(--sklearn-color-unfitted-level-1);\n",
       "  border: var(--sklearn-color-unfitted-level-1) 1pt solid;\n",
       "}\n",
       "\n",
       "#sk-container-id-1 a.estimator_doc_link.fitted {\n",
       "  /* fitted */\n",
       "  border: var(--sklearn-color-fitted-level-1) 1pt solid;\n",
       "  color: var(--sklearn-color-fitted-level-1);\n",
       "}\n",
       "\n",
       "/* On hover */\n",
       "#sk-container-id-1 a.estimator_doc_link:hover {\n",
       "  /* unfitted */\n",
       "  background-color: var(--sklearn-color-unfitted-level-3);\n",
       "  color: var(--sklearn-color-background);\n",
       "  text-decoration: none;\n",
       "}\n",
       "\n",
       "#sk-container-id-1 a.estimator_doc_link.fitted:hover {\n",
       "  /* fitted */\n",
       "  background-color: var(--sklearn-color-fitted-level-3);\n",
       "}\n",
       "</style><div id=\"sk-container-id-1\" class=\"sk-top-container\"><div class=\"sk-text-repr-fallback\"><pre>LogisticRegression()</pre><b>In a Jupyter environment, please rerun this cell to show the HTML representation or trust the notebook. <br />On GitHub, the HTML representation is unable to render, please try loading this page with nbviewer.org.</b></div><div class=\"sk-container\" hidden><div class=\"sk-item\"><div class=\"sk-estimator fitted sk-toggleable\"><input class=\"sk-toggleable__control sk-hidden--visually\" id=\"sk-estimator-id-1\" type=\"checkbox\" checked><label for=\"sk-estimator-id-1\" class=\"sk-toggleable__label fitted sk-toggleable__label-arrow fitted\">&nbsp;&nbsp;LogisticRegression<a class=\"sk-estimator-doc-link fitted\" rel=\"noreferrer\" target=\"_blank\" href=\"https://scikit-learn.org/1.5/modules/generated/sklearn.linear_model.LogisticRegression.html\">?<span>Documentation for LogisticRegression</span></a><span class=\"sk-estimator-doc-link fitted\">i<span>Fitted</span></span></label><div class=\"sk-toggleable__content fitted\"><pre>LogisticRegression()</pre></div> </div></div></div></div>"
      ],
      "text/plain": [
       "LogisticRegression()"
      ]
     },
     "execution_count": 54,
     "metadata": {},
     "output_type": "execute_result"
    }
   ],
   "source": [
    "# Create and train the model\n",
    "model = LogisticRegression() # We initilize the instance of LogisticRegression class\n",
    "model.fit(train_features , y_train) # train the model"
   ]
  },
  {
   "cell_type": "code",
   "execution_count": 55,
   "id": "cf426016-fa4e-462f-8592-691943d69a13",
   "metadata": {},
   "outputs": [],
   "source": [
    "train_score = model.score(train_features,y_train)\n",
    "test_score = model.score(test_features,y_test)\n",
    "y_predict = model.predict(test_features) \n",
    "# We get score on training data, testing data and then we get prediction"
   ]
  },
  {
   "cell_type": "code",
   "execution_count": 56,
   "id": "c8d9bea3-4ffa-4ab4-901a-8e54ec9f72ce",
   "metadata": {},
   "outputs": [
    {
     "name": "stdout",
     "output_type": "stream",
     "text": [
      "Training Score:  0.792604501607717\n",
      "Testing Score:  0.8089887640449438\n"
     ]
    }
   ],
   "source": [
    "print(\"Training Score: \",train_score)\n",
    "print(\"Testing Score: \",test_score)"
   ]
  },
  {
   "cell_type": "code",
   "execution_count": null,
   "id": "83096c17-c7df-4c52-8d04-4b9a8c2f13e6",
   "metadata": {},
   "outputs": [],
   "source": []
  },
  {
   "cell_type": "markdown",
   "id": "c1af5302-939c-4759-bf3b-1b43b037a6db",
   "metadata": {},
   "source": [
    "### Model performance#\n"
   ]
  },
  {
   "cell_type": "code",
   "execution_count": 57,
   "id": "146d370a-9ca0-4aaf-b0c2-a23bf3f33359",
   "metadata": {},
   "outputs": [],
   "source": [
    "confusion = confusion_matrix(y_test, y_predict)\n",
    "FN = confusion[1][0]\n",
    "TN = confusion[0][0]\n",
    "TP = confusion[1][1]\n",
    "FP = confusion[0][1]"
   ]
  },
  {
   "cell_type": "code",
   "execution_count": 58,
   "id": "113548fe-62a2-46d7-b2b0-3bd28d3119c1",
   "metadata": {},
   "outputs": [
    {
     "data": {
      "image/png": "[encoded data removed]",
      "text/plain": [
       "<Figure size 640x480 with 1 Axes>"
      ]
     },
     "metadata": {},
     "output_type": "display_data"
    }
   ],
   "source": [
    "plt.bar(['False Negative' , 'True Negative' , 'True Positive' , 'False Positive'],[FN,TN,TP,FP])\n",
    "plt.show()"
   ]
  },
  {
   "cell_type": "code",
   "execution_count": null,
   "id": "4580f209-660d-4007-9bd0-962d95efe0b7",
   "metadata": {},
   "outputs": [],
   "source": []
  },
  {
   "cell_type": "markdown",
   "id": "e3d25e2a-3b34-4159-bddd-6120a5b704d6",
   "metadata": {},
   "source": [
    "### Save the model"
   ]
  },
  {
   "cell_type": "code",
   "execution_count": 60,
   "id": "88aaa919-775a-4867-b181-0b913ed51fe9",
   "metadata": {},
   "outputs": [],
   "source": [
    "import os\n",
    "import joblib"
   ]
  },
  {
   "cell_type": "code",
   "execution_count": 61,
   "id": "69b6ac59-82c4-4dbe-b47c-6aac8e6d2340",
   "metadata": {},
   "outputs": [],
   "source": [
    "os.makedirs('model', exist_ok=True)"
   ]
  },
  {
   "cell_type": "code",
   "execution_count": 62,
   "id": "de03dbbc-b5ee-4e36-bfe1-2f790b3a0c0b",
   "metadata": {},
   "outputs": [
    {
     "data": {
      "text/plain": [
       "['model/t_model.keras']"
      ]
     },
     "execution_count": 62,
     "metadata": {},
     "output_type": "execute_result"
    }
   ],
   "source": [
    "# Save the model\n",
    "joblib.dump(model, 'model/t_model.keras')"
   ]
  },
  {
   "cell_type": "code",
   "execution_count": null,
   "id": "5621802f-d408-4d72-a430-b5eb496d7485",
   "metadata": {},
   "outputs": [],
   "source": []
  },
  {
   "cell_type": "code",
   "execution_count": null,
   "id": "59e2cd79-7046-4f72-8e5f-c333ec0472fa",
   "metadata": {},
   "outputs": [],
   "source": []
  }
 ],
 "metadata": {
  "kernelspec": {
   "display_name": "Python 3 (ipykernel)",
   "language": "python",
   "name": "python3"
  },
  "language_info": {
   "codemirror_mode": {
    "name": "ipython",
    "version": 3
   },
   "file_extension": ".py",
   "mimetype": "text/x-python",
   "name": "python",
   "nbconvert_exporter": "python",
   "pygments_lexer": "ipython3",
   "version": "3.12.4"
  }
 },
 "nbformat": 4,
 "nbformat_minor": 5
}
